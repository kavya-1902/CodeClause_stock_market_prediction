{
 "cells": [
  {
   "cell_type": "code",
   "execution_count": 1,
   "metadata": {},
   "outputs": [
    {
     "data": {
      "text/plain": [
       "'data has date : current date\\nopen : the price at whick stock started trading on that particular day\\nclose : the price when the stock exachnge closed market for that day #last buy sell order between buyer and trader\\nlow : lowest price\\nhigh: highest price\\nvolume : total trading activity\\nadj close : closest adjustment\\n '"
      ]
     },
     "execution_count": 1,
     "metadata": {},
     "output_type": "execute_result"
    }
   ],
   "source": [
    "#intro\n",
    "#stock market prediction helps you determine the future value of company stock and other financial instruments traded on an exchange \n",
    "#linear regression is a supervised learning algo to predict the outcome of a continuous variable\n",
    "#regression line gives the predicted output i.e units sold based on the input feature \n",
    "'''data has date : current date\n",
    "open : the price at whick stock started trading on that particular day\n",
    "close : the price when the stock exachnge closed market for that day #last buy sell order between buyer and trader\n",
    "low : lowest price\n",
    "high: highest price\n",
    "volume : total trading activity\n",
    "adj close : closest adjustment\n",
    " '''"
   ]
  },
  {
   "cell_type": "code",
   "execution_count": null,
   "metadata": {},
   "outputs": [],
   "source": [
    "import numpy as np \n",
    "import pandas as pd \n",
    "import matplotlib.pyplot as plt \n",
    "from sklearn.preprocessing import MinMaxScaler\n",
    "from keras.models import Sequential\n",
    "from keras.layers import Dense,LSTM,Dropout"
   ]
  }
 ],
 "metadata": {
  "kernelspec": {
   "display_name": "Python 3",
   "language": "python",
   "name": "python3"
  },
  "language_info": {
   "codemirror_mode": {
    "name": "ipython",
    "version": 3
   },
   "file_extension": ".py",
   "mimetype": "text/x-python",
   "name": "python",
   "nbconvert_exporter": "python",
   "pygments_lexer": "ipython3",
   "version": "3.9.5"
  },
  "orig_nbformat": 4
 },
 "nbformat": 4,
 "nbformat_minor": 2
}
